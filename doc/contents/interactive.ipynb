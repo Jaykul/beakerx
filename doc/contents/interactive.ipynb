{
 "cells": [
  {
   "cell_type": "code",
   "execution_count": 10,
   "metadata": {
    "collapsed": false,
    "deletable": true,
    "editable": true
   },
   "outputs": [
    {
     "data": {
      "text/plain": [
       "null"
      ]
     },
     "execution_count": 10,
     "metadata": {},
     "output_type": "execute_result"
    }
   ],
   "source": [
    "import static com.twosigma.beakerx.groovy.widgets.Interactive.interact;\n",
    "\n",
    "class PlotHolder{\n",
    "    static Plot plot = null;\n",
    "}\n",
    "\n",
    "public static Object f(x){\n",
    "    if(PlotHolder.plot == null){\n",
    "     PlotHolder.plot = new Plot(title: x)\n",
    "     PlotHolder.plot.display()\n",
    "    }\n",
    "    PlotHolder.plot.title = x\n",
    "}\n",
    "\n",
    "interact(this.&f, \"s\");"
   ]
  },
  {
   "cell_type": "code",
   "execution_count": 2,
   "metadata": {
    "collapsed": false,
    "deletable": true,
    "editable": true
   },
   "outputs": [
    {
     "data": {
      "text/plain": [
       "Fe ABC"
      ]
     },
     "metadata": {},
     "output_type": "display_data"
    }
   ],
   "source": [
    "public Object f(x){\n",
    "    return x + \" ABC\";\n",
    "}\n",
    "\n",
    "com.twosigma.beakerx.groovy.widgets.Interactive.interact(this.&f, \"F\");"
   ]
  },
  {
   "cell_type": "code",
   "execution_count": 2,
   "metadata": {
    "collapsed": false,
    "deletable": true,
    "editable": true
   },
   "outputs": [
    {
     "data": {
      "text/plain": [
       "null"
      ]
     },
     "execution_count": 2,
     "metadata": {},
     "output_type": "execute_result"
    }
   ],
   "source": [
    "public Object f(x){\n",
    "    return x + 2;\n",
    "}\n",
    "\n",
    "com.twosigma.beakerx.groovy.widgets.Interactive.interact(this.&f, 10d);"
   ]
  },
  {
   "cell_type": "code",
   "execution_count": 3,
   "metadata": {
    "collapsed": false,
    "deletable": true,
    "editable": true
   },
   "outputs": [
    {
     "data": {
      "text/plain": [
       "null"
      ]
     },
     "execution_count": 3,
     "metadata": {},
     "output_type": "execute_result"
    }
   ],
   "source": [
    "public Object f(x){\n",
    "    return x + 2;\n",
    "}\n",
    "\n",
    "com.twosigma.beakerx.groovy.widgets.Interactive.interact(this.&f, 10);"
   ]
  },
  {
   "cell_type": "code",
   "execution_count": 4,
   "metadata": {
    "collapsed": false,
    "deletable": true,
    "editable": true
   },
   "outputs": [
    {
     "data": {
      "text/plain": [
       "null"
      ]
     },
     "execution_count": 4,
     "metadata": {},
     "output_type": "execute_result"
    }
   ],
   "source": [
    "public Object f(x){\n",
    "    return !x;\n",
    "}\n",
    "\n",
    "com.twosigma.beakerx.groovy.widgets.Interactive.interact(this.&f, true);"
   ]
  },
  {
   "cell_type": "code",
   "execution_count": 7,
   "metadata": {
    "collapsed": false,
    "deletable": true,
    "editable": true
   },
   "outputs": [
    {
     "data": {
      "text/plain": [
       "null"
      ]
     },
     "execution_count": 7,
     "metadata": {},
     "output_type": "execute_result"
    }
   ],
   "source": [
    "public Object f(x, y){\n",
    "    return [x + 2, y + 4];\n",
    "}\n",
    "\n",
    "com.twosigma.beakerx.groovy.widgets.Interactive.interact(this.&f, 10, 100);"
   ]
  },
  {
   "cell_type": "code",
   "execution_count": 3,
   "metadata": {
    "collapsed": false,
    "deletable": true,
    "editable": true
   },
   "outputs": [
    {
     "data": {
      "text/plain": [
       "null"
      ]
     },
     "execution_count": 3,
     "metadata": {},
     "output_type": "execute_result"
    }
   ],
   "source": [
    "public Object d(x, y){\n",
    "    return [x + 2, \"abc \" + y];\n",
    "}\n",
    "\n",
    "com.twosigma.beakerx.groovy.widgets.Interactive.interact(this.&d, 10, \"0\");"
   ]
  },
  {
   "cell_type": "code",
   "execution_count": 2,
   "metadata": {
    "collapsed": false,
    "deletable": true,
    "editable": true
   },
   "outputs": [
    {
     "data": {
      "text/plain": [
       "sfffff"
      ]
     },
     "metadata": {},
     "output_type": "display_data"
    }
   ],
   "source": [
    "import static com.twosigma.beakerx.groovy.widgets.Interactive.interact;\n",
    "\n",
    "class PlotHolder{\n",
    "    static String text = \"\"\n",
    "    static Plot plot = null;\n",
    "}\n",
    "\n",
    "public static Object f(x){\n",
    "    PlotHolder.text = x;\n",
    "    if(PlotHolder.plot != null){\n",
    "        PlotHolder.plot.close();\n",
    "    }\n",
    "    PlotHolder.plot = new Plot(title: PlotHolder.text)\n",
    "    PlotHolder.plot.display()\n",
    "    PlotHolder.text\n",
    "}\n",
    "\n",
    "interact(this.&f, \"s\");"
   ]
  },
  {
   "cell_type": "code",
   "execution_count": null,
   "metadata": {
    "collapsed": true,
    "deletable": true,
    "editable": true
   },
   "outputs": [],
   "source": [
    "import static com.twosigma.beakerx.groovy.widgets.Interactive.interact;\n",
    "\n",
    "public Object f(x){\n",
    "    println \"Hello World !!!\"\n",
    "    return x\n",
    "}\n",
    "\n",
    "interact(this.&f, \"s\");"
   ]
  },
  {
   "cell_type": "code",
   "execution_count": 3,
   "metadata": {
    "collapsed": false,
    "deletable": true,
    "editable": true
   },
   "outputs": [
    {
     "data": {
      "text/plain": [
       "null"
      ]
     },
     "execution_count": 3,
     "metadata": {},
     "output_type": "execute_result"
    }
   ],
   "source": [
    "import static com.twosigma.beakerx.groovy.widgets.Interactive.interact;\n",
    "\n",
    "class DataHolder{\n",
    "    static Plot plot = null;\n",
    "}\n",
    "\n",
    "public static Object f(num){\n",
    "    if(DataHolder.plot != null){\n",
    "        DataHolder.plot.close();\n",
    "    }\n",
    "    \n",
    "    List x = [0, 10]\n",
    "    List y = [4, num]\n",
    "    DataHolder.plot = new Plot().add(new Line(x, y))\n",
    "    DataHolder.plot.display()\n",
    "    num\n",
    "}\n",
    "\n",
    "interact(this.&f, 4);\n"
   ]
  },
  {
   "cell_type": "code",
   "execution_count": 13,
   "metadata": {
    "collapsed": false,
    "deletable": true,
    "editable": true
   },
   "outputs": [
    {
     "data": {
      "text/plain": [
       "x = [0, 7] y = [3, 1]"
      ]
     },
     "metadata": {},
     "output_type": "display_data"
    }
   ],
   "source": [
    "import static com.twosigma.beakerx.groovy.widgets.Interactive.interact;\n",
    "\n",
    "class DataHolder{\n",
    "    static Plot plot = null;\n",
    "}\n",
    "\n",
    "public static Object f(x1,x2,y1,y2){\n",
    "    if(DataHolder.plot != null){\n",
    "        DataHolder.plot.close();\n",
    "    }\n",
    "    \n",
    "    List x = [x1, x2]\n",
    "    List y = [y1, y2]\n",
    "    DataHolder.plot = new Plot().add(new Line(x, y))\n",
    "    DataHolder.plot.display()\n",
    "    \"x = \" + x +\" y = \" + y\n",
    "}\n",
    "\n",
    "interact(this.&f, 0, 10, 4, 4);\n"
   ]
  },
  {
   "cell_type": "code",
   "execution_count": 11,
   "metadata": {
    "collapsed": false
   },
   "outputs": [
    {
     "data": {
      "text/plain": [
       "x = [0, 24] y = [4, 1]"
      ]
     },
     "metadata": {},
     "output_type": "display_data"
    }
   ],
   "source": [
    "import static com.twosigma.beakerx.groovy.widgets.Interactive.interact;\n",
    "\n",
    "class DataHolder{\n",
    "    static Plot plot = null;\n",
    "}\n",
    "\n",
    "public static Object f(x1,x2,y1,y2){\n",
    "    if(DataHolder.plot == null){\n",
    "        DataHolder.plot = new Plot()\n",
    "        DataHolder.plot.display()\n",
    "    }\n",
    "    List x = [x1, x2]\n",
    "    List y = [y1, y2]\n",
    "    DataHolder.plot.getGraphics().clear()\n",
    "    DataHolder.plot.add(new Line(x, y))\n",
    "    \"x = \" + x +\" y = \" + y\n",
    "}\n",
    "\n",
    "interact(this.&f, 0, 10, 4, 4);"
   ]
  },
  {
   "cell_type": "code",
   "execution_count": 15,
   "metadata": {
    "collapsed": false,
    "deletable": true,
    "editable": true
   },
   "outputs": [
    {
     "data": {
      "text/plain": [
       "null"
      ]
     },
     "execution_count": 15,
     "metadata": {},
     "output_type": "execute_result"
    }
   ],
   "source": [
    "import static com.twosigma.beakerx.groovy.widgets.Interactive.interact;\n",
    "\n",
    "class PlotHolder{\n",
    "    static Plot plot = null;\n",
    "}\n",
    "\n",
    "public static Object f(x){\n",
    "    if(PlotHolder.plot == null){\n",
    "     PlotHolder.plot = new Plot(title: x)\n",
    "     PlotHolder.plot.display()\n",
    "    }\n",
    "    PlotHolder.plot.title = x\n",
    "}\n",
    "\n",
    "interact(this.&f, \"s\");"
   ]
  },
  {
   "cell_type": "code",
   "execution_count": null,
   "metadata": {
    "collapsed": true,
    "deletable": true,
    "editable": true
   },
   "outputs": [],
   "source": []
  }
 ],
 "metadata": {
  "beakerx_kernel_parameters": {},
  "kernelspec": {
   "display_name": "Groovy",
   "language": "groovy",
   "name": "groovy"
  },
  "language_info": {
   "codemirror_mode": "groovy",
   "file_extension": ".groovy",
   "mimetype": "",
   "name": "Groovy",
   "nbconverter_exporter": "",
   "version": "2.4.3"
  },
  "widgets": {
   "state": {
    "8e031bec-8956-4228-9da0-77339eee6003": {
     "views": [
      {
       "cell_index": 0
      }
     ]
    }
   },
   "version": "1.2.0"
  }
 },
 "nbformat": 4,
 "nbformat_minor": 2
}
